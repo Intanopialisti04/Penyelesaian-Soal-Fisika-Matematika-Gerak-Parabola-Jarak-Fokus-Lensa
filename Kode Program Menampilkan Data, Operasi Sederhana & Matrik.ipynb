{
  "nbformat": 4,
  "nbformat_minor": 0,
  "metadata": {
    "colab": {
      "provenance": []
    },
    "kernelspec": {
      "name": "python3",
      "display_name": "Python 3"
    },
    "language_info": {
      "name": "python"
    }
  },
  "cells": [
    {
      "cell_type": "code",
      "execution_count": null,
      "metadata": {
        "colab": {
          "base_uri": "https://localhost:8080/"
        },
        "id": "O2hduHw8vOXz",
        "outputId": "96d728db-982c-4cdd-f81f-51e0ecf3b4df"
      },
      "outputs": [
        {
          "output_type": "stream",
          "name": "stdout",
          "text": [
            "10\n",
            "hasil m + m =  20\n",
            "hasil m x m =  100\n",
            "..................\n",
            "kalau orang lain bisa kenapa kita tidak bisa\n",
            "lau oran\n",
            "['kalau', 'orang', 'lain', 'bisa', 'kenapa', 'kita', 'tidak', 'bisa']\n"
          ]
        }
      ],
      "source": [
        "#cara menampilkan hasil\n",
        "\n",
        "m = 10\n",
        "print(m)\n",
        "print(\"hasil m + m = \", m+m)\n",
        "print(\"hasil m x m = \", m*m)\n",
        "\n",
        "print('..................')\n",
        "\n",
        "#Menampilkan karakter\n",
        "kar_1 = 'kalau orang lain bisa'\n",
        "kar_2 = 'kenapa kita tidak bisa'\n",
        "print(kar_1+' '+kar_2)\n",
        "print(kar_1[2:10])\n",
        "karakter = 'kalau orang lain bisa kenapa kita tidak bisa'\n",
        "print(karakter.split())\n",
        "\n",
        "\n",
        "\n"
      ]
    },
    {
      "cell_type": "code",
      "source": [
        "from math import *\n",
        "#operasi perhitungan sederhana \n",
        "a = 10\n",
        "b = -4.5\n",
        "c = 5.0\n",
        "d = 5/2\n",
        "\n",
        "print(a+b)\n",
        "print(\"bentuk bilangan integer = \", int(b))\n",
        "print(\"bentuk bilangan float = \", float(a))\n",
        "print(\"perkalian c x d = \", c*d)\n",
        "\n",
        "print(\"-----------------------------------------------------------------------\")\n",
        "\n",
        "print(\"contoh soal = tentukan kecepatan v(W (usaha)= 20; s (jarak) = -10; t (waktu) = 2) \")\n",
        "w = 20\n",
        "s = -10\n",
        "t = 2\n",
        "#v = s/t\n",
        "kecepatan = s/t\n",
        "print(kecepatan, \"m/s\")\n",
        "print(\"-----------------------------\")\n",
        "print(\"Soal 1 = tentukan energi dalam J dari m = 9,1x10^-31; c = 3x10^8\")\n",
        "m = 9.31*10**-31\n",
        "c = 3*10**8\n",
        "#energi : E = m x c^2\n",
        "E = m * c**2\n",
        "print(E)\n",
        "\n",
        "print(\"-----------------------------------------------------------------------\")\n",
        "print(\"soal 2 = tentukan periode dalam s (l = 0.5 m ; g = 9.8 m/s^2\")\n",
        "l = 0.5\n",
        "g = 9.8\n",
        "\n",
        "periode = 2*pi*sqrt(l/g)\n",
        "print(periode)"
      ],
      "metadata": {
        "colab": {
          "base_uri": "https://localhost:8080/"
        },
        "id": "Oh-6tlKanSwC",
        "outputId": "cc409d26-e526-4095-9169-b5310d47be78"
      },
      "execution_count": null,
      "outputs": [
        {
          "output_type": "stream",
          "name": "stdout",
          "text": [
            "5.5\n",
            "bentuk bilangan integer =  -4\n",
            "bentuk bilangan float =  10.0\n",
            "perkalian c x d =  12.5\n",
            "-----------------------------------------------------------------------\n",
            "contoh soal = tentukan kecepatan v(W (usaha)= 20; s (jarak) = -10; t (waktu) = 2) \n",
            "-5.0 m/s\n",
            "-----------------------------\n",
            "Soal 1 = tentukan energi dalam J dari m = 9,1x10^-31; c = 3x10^8\n",
            "8.379e-14\n",
            "-----------------------------------------------------------------------\n",
            "soal 2 = tentukan periode dalam s (l = 0.5 m ; g = 9.8 m/s^2\n",
            "1.4192268951137286\n"
          ]
        }
      ]
    },
    {
      "cell_type": "code",
      "source": [
        "from numpy import *\n",
        "#menampilkan matrik\n",
        "M = [[0 ,1 ,1 , 0] , [2,3,2,1]]\n",
        "print(M)\n",
        "\n",
        "a = zeros ((3,3),int)\n",
        "print(a)\n",
        "print(\"  \")\n",
        "\n",
        "a[0] = [1,4,2]\n",
        "a[1,1] = 9\n",
        "a[2,0:2] = [9,9]\n",
        "print (a)\n",
        "\n",
        "from numpy import array\n",
        "print(' ')\n",
        "A = array([[2,3,4], [2,3,6]])\n",
        "print (A)\n",
        "\n"
      ],
      "metadata": {
        "colab": {
          "base_uri": "https://localhost:8080/"
        },
        "id": "uZHp-gvttz8S",
        "outputId": "928917c3-5e0e-4645-c701-433b154fc8a1"
      },
      "execution_count": null,
      "outputs": [
        {
          "output_type": "stream",
          "name": "stdout",
          "text": [
            "[[0, 1, 1, 0], [2, 3, 2, 1]]\n",
            "[[0 0 0]\n",
            " [0 0 0]\n",
            " [0 0 0]]\n",
            "  \n",
            "[[1 4 2]\n",
            " [0 9 0]\n",
            " [9 9 0]]\n",
            " \n",
            "[[2 3 4]\n",
            " [2 3 6]]\n"
          ]
        }
      ]
    },
    {
      "cell_type": "code",
      "source": [
        "import matplotlib.pyplot as plt \n",
        "from numpy import arange,sin,cos\n",
        "\n",
        "x = arange(0.0,6.0,0.1)\n",
        "plt.plot(x,sin(x),'o-',x,cos(x),'s-')\n",
        "plt.title('Grafik Sinusoidal')\n",
        "plt.xlabel('x')\n",
        "plt.ylabel('y')\n",
        "plt.legend(('sinus','cosinus'),loc =0)\n",
        "plt.grid(True)\n",
        "plt.show()\n"
      ],
      "metadata": {
        "colab": {
          "base_uri": "https://localhost:8080/",
          "height": 295
        },
        "id": "1tR1pHPmxZVY",
        "outputId": "2adf5dc1-5266-4c50-ebdd-abf2605137c5"
      },
      "execution_count": null,
      "outputs": [
        {
          "output_type": "display_data",
          "data": {
            "text/plain": [
              "<Figure size 432x288 with 1 Axes>"
            ],
            "image/png": "[encoded data removed]"
          },
          "metadata": {
            "needs_background": "light"
          }
        }
      ]
    }
  ]
}